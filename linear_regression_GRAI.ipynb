{
 "cells": [
  {
   "cell_type": "code",
   "execution_count": 2,
   "id": "ef6913f7",
   "metadata": {},
   "outputs": [],
   "source": [
    "import pandas as pd\n",
    "from sklearn.model_selection import train_test_split\n",
    "\n",
    "# Replace 'data.xlsx' with the actual path to your data file\n",
    "data = pd.read_csv('C:/Users/DELL/GRAI.csv')\n"
   ]
  },
  {
   "cell_type": "code",
   "execution_count": 3,
   "id": "a057d8d4",
   "metadata": {},
   "outputs": [
    {
     "name": "stderr",
     "output_type": "stream",
     "text": [
      "C:\\Users\\DELL\\AppData\\Local\\Temp\\ipykernel_5936\\3717066983.py:2: FutureWarning: The default value of numeric_only in DataFrame.mean is deprecated. In a future version, it will default to False. In addition, specifying 'numeric_only=None' is deprecated. Select only valid columns or specify the value of numeric_only to silence this warning.\n",
      "  data.fillna(data.mean(), inplace=True)\n"
     ]
    }
   ],
   "source": [
    "# Handle missing values (e.g., fill with mean/median or drop rows)\n",
    "data.fillna(data.mean(), inplace=True)\n",
    "\n",
    "# Convert categorical features to numerical (e.g., using one-hot encoding)\n",
    "categorical_features = ['Ministries_Departments']\n",
    "data = pd.get_dummies(data, columns=categorical_features)\n",
    "\n",
    "# Feature engineering (e.g., create new features)\n",
    "# ... (your feature engineering code here)\n",
    "\n",
    "# Define target variable (e.g., column indicating misrouting)\n",
    "target_variable = 'Timeline'\n",
    "\n",
    "# Separate features and target variables\n",
    "X = data.drop(target_variable, axis=1)\n",
    "y = data[target_variable]\n",
    "\n",
    "# Split data into training and testing sets\n",
    "X_train, X_test, y_train, y_test = train_test_split(X, y, test_size=0.2, random_state=42)\n"
   ]
  },
  {
   "cell_type": "code",
   "execution_count": 4,
   "id": "74a5471a",
   "metadata": {},
   "outputs": [
    {
     "data": {
      "text/html": [
       "<style>#sk-container-id-1 {color: black;}#sk-container-id-1 pre{padding: 0;}#sk-container-id-1 div.sk-toggleable {background-color: white;}#sk-container-id-1 label.sk-toggleable__label {cursor: pointer;display: block;width: 100%;margin-bottom: 0;padding: 0.3em;box-sizing: border-box;text-align: center;}#sk-container-id-1 label.sk-toggleable__label-arrow:before {content: \"▸\";float: left;margin-right: 0.25em;color: #696969;}#sk-container-id-1 label.sk-toggleable__label-arrow:hover:before {color: black;}#sk-container-id-1 div.sk-estimator:hover label.sk-toggleable__label-arrow:before {color: black;}#sk-container-id-1 div.sk-toggleable__content {max-height: 0;max-width: 0;overflow: hidden;text-align: left;background-color: #f0f8ff;}#sk-container-id-1 div.sk-toggleable__content pre {margin: 0.2em;color: black;border-radius: 0.25em;background-color: #f0f8ff;}#sk-container-id-1 input.sk-toggleable__control:checked~div.sk-toggleable__content {max-height: 200px;max-width: 100%;overflow: auto;}#sk-container-id-1 input.sk-toggleable__control:checked~label.sk-toggleable__label-arrow:before {content: \"▾\";}#sk-container-id-1 div.sk-estimator input.sk-toggleable__control:checked~label.sk-toggleable__label {background-color: #d4ebff;}#sk-container-id-1 div.sk-label input.sk-toggleable__control:checked~label.sk-toggleable__label {background-color: #d4ebff;}#sk-container-id-1 input.sk-hidden--visually {border: 0;clip: rect(1px 1px 1px 1px);clip: rect(1px, 1px, 1px, 1px);height: 1px;margin: -1px;overflow: hidden;padding: 0;position: absolute;width: 1px;}#sk-container-id-1 div.sk-estimator {font-family: monospace;background-color: #f0f8ff;border: 1px dotted black;border-radius: 0.25em;box-sizing: border-box;margin-bottom: 0.5em;}#sk-container-id-1 div.sk-estimator:hover {background-color: #d4ebff;}#sk-container-id-1 div.sk-parallel-item::after {content: \"\";width: 100%;border-bottom: 1px solid gray;flex-grow: 1;}#sk-container-id-1 div.sk-label:hover label.sk-toggleable__label {background-color: #d4ebff;}#sk-container-id-1 div.sk-serial::before {content: \"\";position: absolute;border-left: 1px solid gray;box-sizing: border-box;top: 0;bottom: 0;left: 50%;z-index: 0;}#sk-container-id-1 div.sk-serial {display: flex;flex-direction: column;align-items: center;background-color: white;padding-right: 0.2em;padding-left: 0.2em;position: relative;}#sk-container-id-1 div.sk-item {position: relative;z-index: 1;}#sk-container-id-1 div.sk-parallel {display: flex;align-items: stretch;justify-content: center;background-color: white;position: relative;}#sk-container-id-1 div.sk-item::before, #sk-container-id-1 div.sk-parallel-item::before {content: \"\";position: absolute;border-left: 1px solid gray;box-sizing: border-box;top: 0;bottom: 0;left: 50%;z-index: -1;}#sk-container-id-1 div.sk-parallel-item {display: flex;flex-direction: column;z-index: 1;position: relative;background-color: white;}#sk-container-id-1 div.sk-parallel-item:first-child::after {align-self: flex-end;width: 50%;}#sk-container-id-1 div.sk-parallel-item:last-child::after {align-self: flex-start;width: 50%;}#sk-container-id-1 div.sk-parallel-item:only-child::after {width: 0;}#sk-container-id-1 div.sk-dashed-wrapped {border: 1px dashed gray;margin: 0 0.4em 0.5em 0.4em;box-sizing: border-box;padding-bottom: 0.4em;background-color: white;}#sk-container-id-1 div.sk-label label {font-family: monospace;font-weight: bold;display: inline-block;line-height: 1.2em;}#sk-container-id-1 div.sk-label-container {text-align: center;}#sk-container-id-1 div.sk-container {/* jupyter's `normalize.less` sets `[hidden] { display: none; }` but bootstrap.min.css set `[hidden] { display: none !important; }` so we also need the `!important` here to be able to override the default hidden behavior on the sphinx rendered scikit-learn.org. See: https://github.com/scikit-learn/scikit-learn/issues/21755 */display: inline-block !important;position: relative;}#sk-container-id-1 div.sk-text-repr-fallback {display: none;}</style><div id=\"sk-container-id-1\" class=\"sk-top-container\"><div class=\"sk-text-repr-fallback\"><pre>LinearRegression()</pre><b>In a Jupyter environment, please rerun this cell to show the HTML representation or trust the notebook. <br />On GitHub, the HTML representation is unable to render, please try loading this page with nbviewer.org.</b></div><div class=\"sk-container\" hidden><div class=\"sk-item\"><div class=\"sk-estimator sk-toggleable\"><input class=\"sk-toggleable__control sk-hidden--visually\" id=\"sk-estimator-id-1\" type=\"checkbox\" checked><label for=\"sk-estimator-id-1\" class=\"sk-toggleable__label sk-toggleable__label-arrow\">LinearRegression</label><div class=\"sk-toggleable__content\"><pre>LinearRegression()</pre></div></div></div></div></div>"
      ],
      "text/plain": [
       "LinearRegression()"
      ]
     },
     "execution_count": 4,
     "metadata": {},
     "output_type": "execute_result"
    }
   ],
   "source": [
    "# Choose a model (e.g., linear regression)\n",
    "from sklearn.linear_model import LinearRegression\n",
    "\n",
    "# Create a model instance\n",
    "model = LinearRegression()\n",
    "\n",
    "# Train the model on the training data\n",
    "model.fit(X_train, y_train)\n"
   ]
  },
  {
   "cell_type": "code",
   "execution_count": 5,
   "id": "76914a39",
   "metadata": {},
   "outputs": [],
   "source": [
    "# Use the trained model to predict on new data\n",
    "y_pred = model.predict(X_test)\n"
   ]
  },
  {
   "cell_type": "code",
   "execution_count": 6,
   "id": "dc5be28c",
   "metadata": {},
   "outputs": [
    {
     "name": "stdout",
     "output_type": "stream",
     "text": [
      "Mean Squared Error: 182.40268137694875\n",
      "R-squared: 0.2023451309014519\n"
     ]
    }
   ],
   "source": [
    "# Use appropriate metrics for regression, such as:\n",
    "from sklearn.metrics import mean_squared_error, r2_score\n",
    "\n",
    "mse = mean_squared_error(y_test, y_pred)\n",
    "r2 = r2_score(y_test, y_pred)\n",
    "\n",
    "print(\"Mean Squared Error:\", mse)\n",
    "print(\"R-squared:\", r2)\n"
   ]
  },
  {
   "cell_type": "code",
   "execution_count": 7,
   "id": "8f73e5f5",
   "metadata": {},
   "outputs": [
    {
     "name": "stdout",
     "output_type": "stream",
     "text": [
      "Registration: 0.0123\n",
      "Appeals_Redressed: 0.0067\n",
      "Corruption: 0.0603\n",
      "Average_Disposal_Time: 0.7629\n",
      "Pendency: 0.0039\n",
      "Appeal_filed: 0.0218\n",
      "Excellent_remarks: 0.0124\n",
      "Complaint_labelled: 0.0264\n",
      "Adequacy: 0.0095\n",
      "Ratio_GROs: 0.0435\n",
      "Active_GROs: 0.0189\n",
      "Ministries_Departments_Central Board of Direct Taxes (Income Tax): 0.0046\n",
      "Ministries_Departments_Central Board of Indirect Taxes and Customs: 0.0001\n",
      "Ministries_Departments_Department of Agriculture and Farmers Welfare: 0.0052\n",
      "Ministries_Departments_Department of Consumer Affairs: 0.0002\n",
      "Ministries_Departments_Department of Defence: 0.0000\n",
      "Ministries_Departments_Department of Defence Finance: 0.0000\n",
      "Ministries_Departments_Department of Ex Servicemen Welfare: 0.0000\n",
      "Ministries_Departments_Department of Financial Services : 0.0019\n",
      "Ministries_Departments_Department of Financial Services (Insurance Division): 0.0000\n",
      "Ministries_Departments_Department of Health & Family Welfare: 0.0000\n",
      "Ministries_Departments_Department of Higher Education: 0.0001\n",
      "Ministries_Departments_Department of Justice: 0.0001\n",
      "Ministries_Departments_Department of Personnel and Training: 0.0000\n",
      "Ministries_Departments_Department of Posts: 0.0001\n",
      "Ministries_Departments_Department of Revenue: 0.0037\n",
      "Ministries_Departments_Department of Rural Development: 0.0000\n",
      "Ministries_Departments_Department of School Education and Literacy: 0.0005\n",
      "Ministries_Departments_Department of Telecommunications: 0.0001\n",
      "Ministries_Departments_Ministry of Civil Aviation: 0.0012\n",
      "Ministries_Departments_Ministry of Cooperation: 0.0013\n",
      "Ministries_Departments_Ministry of Corporate Affairs: 0.0001\n",
      "Ministries_Departments_Ministry of External Affairs: 0.0003\n",
      "Ministries_Departments_Ministry of Home Affairs: 0.0018\n",
      "Ministries_Departments_Ministry of Housing and Urban Affairs: 0.0000\n",
      "Ministries_Departments_Ministry of Labour and Employment: 0.0000\n",
      "Ministries_Departments_Ministry of Petroleum and Natural Gas: 0.0000\n",
      "Ministries_Departments_Ministry of Railways ( Railway Board): 0.0000\n",
      "Ministries_Departments_Ministry of Road Transport and Highways: 0.0000\n",
      "Ministries_Departments_Unique Identification Authority of India: 0.0000\n",
      "Ministries_Departments_the Comptroller and Auditor General of India: 0.0000\n"
     ]
    }
   ],
   "source": [
    "# Example using feature importances for Random Forest\n",
    "from sklearn.ensemble import RandomForestRegressor\n",
    "\n",
    "# Train a random forest model\n",
    "model = RandomForestRegressor(n_estimators=100)\n",
    "model.fit(X_train, y_train)\n",
    "\n",
    "# Get feature importances\n",
    "importances = model.feature_importances_\n",
    "\n",
    "# Print feature names and importances\n",
    "for feature, importance in zip(X.columns, importances):\n",
    "    print(f\"{feature}: {importance:.4f}\")\n"
   ]
  },
  {
   "cell_type": "code",
   "execution_count": 11,
   "id": "02237a82",
   "metadata": {},
   "outputs": [
    {
     "data": {
      "image/png": "[encoded data removed]",
      "text/plain": [
       "<Figure size 1000x600 with 1 Axes>"
      ]
     },
     "metadata": {},
     "output_type": "display_data"
    }
   ],
   "source": [
    "import matplotlib.pyplot as plt\n",
    "\n",
    "# Choose the feature you want to visualize\n",
    "feature = 'Registration'\n",
    "\n",
    "# Plot the scatter plot\n",
    "plt.figure(figsize=(10, 6))\n",
    "plt.scatter(X_train[feature], y_train, color='blue', label='Training data')\n",
    "plt.scatter(X_test[feature], y_test, color='red', label='Testing data')\n",
    "plt.title('Scatter Plot of {} vs. Timeline'.format(feature))\n",
    "plt.xlabel(feature)\n",
    "plt.ylabel('Timeline')\n",
    "plt.legend()\n",
    "plt.show()\n"
   ]
  },
  {
   "cell_type": "code",
   "execution_count": 8,
   "id": "6be5f22a",
   "metadata": {},
   "outputs": [
    {
     "data": {
      "image/png": "[encoded data removed]",
      "text/plain": [
       "<Figure size 800x600 with 1 Axes>"
      ]
     },
     "metadata": {},
     "output_type": "display_data"
    }
   ],
   "source": [
    "# Import libraries\n",
    "import matplotlib.pyplot as plt\n",
    "from sklearn.ensemble import RandomForestRegressor\n",
    "\n",
    "# Create sample data\n",
    "X = X_train\n",
    "y = y_train\n",
    "\n",
    "# Split data into training and testing sets\n",
    "from sklearn.model_selection import train_test_split\n",
    "\n",
    "X_train, X_test, y_train, y_test = train_test_split(X, y, test_size=0.2, random_state=42)\n",
    "\n",
    "# Train a random forest model\n",
    "model = RandomForestRegressor(n_estimators=100)\n",
    "model.fit(X_train, y_train)\n",
    "\n",
    "# Get feature importances\n",
    "importances = model.feature_importances_\n",
    "\n",
    "# Feature names\n",
    "feature_names = [\"Timeline\", \"Registration\", \"Appeals_Redressed\", \"Corruption\", \"Average_Disposal_Time\", \"Pendency\", \"Appeal_filed\", \"Excellent_remarks\", \"Complaint_labelled\", \"Ratio_GROs\", \"Active_GROs\"]\n",
    "\n",
    "# Create a histogram for feature importance\n",
    "plt.figure(figsize=(8, 6))\n",
    "plt.hist(importances, bins=10, edgecolor=\"black\")\n",
    "plt.xlabel(\"Feature Importance\")\n",
    "plt.ylabel(\"Number of Features\")\n",
    "plt.title(\"Distribution of Feature Importance\")\n",
    "plt.grid(True)\n",
    "plt.show()"
   ]
  },
  {
   "cell_type": "code",
   "execution_count": 14,
   "id": "f0330e60",
   "metadata": {},
   "outputs": [
    {
     "name": "stdout",
     "output_type": "stream",
     "text": [
      "Requirement already satisfied: pdpbox in c:\\users\\dell\\anaconda3\\lib\\site-packages (0.3.0)\n",
      "Requirement already satisfied: joblib>=1.1.0 in c:\\users\\dell\\anaconda3\\lib\\site-packages (from pdpbox) (1.2.0)\n",
      "Requirement already satisfied: matplotlib>=3.6.2 in c:\\users\\dell\\anaconda3\\lib\\site-packages (from pdpbox) (3.7.1)\n",
      "Requirement already satisfied: numpy>=1.21.5 in c:\\users\\dell\\anaconda3\\lib\\site-packages (from pdpbox) (1.24.3)\n",
      "Requirement already satisfied: pandas>=1.4.4 in c:\\users\\dell\\anaconda3\\lib\\site-packages (from pdpbox) (1.5.3)\n",
      "Requirement already satisfied: plotly>=5.9.0 in c:\\users\\dell\\anaconda3\\lib\\site-packages (from pdpbox) (5.9.0)\n",
      "Requirement already satisfied: pqdm>=0.2.0 in c:\\users\\dell\\anaconda3\\lib\\site-packages (from pdpbox) (0.2.0)\n",
      "Requirement already satisfied: psutil>=5.9.0 in c:\\users\\dell\\anaconda3\\lib\\site-packages (from pdpbox) (5.9.0)\n",
      "Requirement already satisfied: pytest in c:\\users\\dell\\anaconda3\\lib\\site-packages (from pdpbox) (7.4.0)\n",
      "Requirement already satisfied: scikit-learn>=1.0.2 in c:\\users\\dell\\anaconda3\\lib\\site-packages (from pdpbox) (1.3.0)\n",
      "Requirement already satisfied: setuptools in c:\\users\\dell\\anaconda3\\lib\\site-packages (from pdpbox) (68.0.0)\n",
      "Requirement already satisfied: sphinx>=5.0.2 in c:\\users\\dell\\anaconda3\\lib\\site-packages (from pdpbox) (5.0.2)\n",
      "Requirement already satisfied: sphinx-rtd-theme>=1.1.1 in c:\\users\\dell\\anaconda3\\lib\\site-packages (from pdpbox) (2.0.0)\n",
      "Requirement already satisfied: tqdm>=4.64.1 in c:\\users\\dell\\anaconda3\\lib\\site-packages (from pdpbox) (4.65.0)\n",
      "Requirement already satisfied: numpydoc>=1.4.0 in c:\\users\\dell\\anaconda3\\lib\\site-packages (from pdpbox) (1.5.0)\n",
      "Requirement already satisfied: xgboost>=1.7.1 in c:\\users\\dell\\anaconda3\\lib\\site-packages (from pdpbox) (2.0.0)\n",
      "Requirement already satisfied: contourpy>=1.0.1 in c:\\users\\dell\\anaconda3\\lib\\site-packages (from matplotlib>=3.6.2->pdpbox) (1.0.5)\n",
      "Requirement already satisfied: cycler>=0.10 in c:\\users\\dell\\anaconda3\\lib\\site-packages (from matplotlib>=3.6.2->pdpbox) (0.11.0)\n",
      "Requirement already satisfied: fonttools>=4.22.0 in c:\\users\\dell\\anaconda3\\lib\\site-packages (from matplotlib>=3.6.2->pdpbox) (4.25.0)\n",
      "Requirement already satisfied: kiwisolver>=1.0.1 in c:\\users\\dell\\anaconda3\\lib\\site-packages (from matplotlib>=3.6.2->pdpbox) (1.4.4)\n",
      "Requirement already satisfied: packaging>=20.0 in c:\\users\\dell\\anaconda3\\lib\\site-packages (from matplotlib>=3.6.2->pdpbox) (23.0)\n",
      "Requirement already satisfied: pillow>=6.2.0 in c:\\users\\dell\\anaconda3\\lib\\site-packages (from matplotlib>=3.6.2->pdpbox) (9.4.0)\n",
      "Requirement already satisfied: pyparsing>=2.3.1 in c:\\users\\dell\\anaconda3\\lib\\site-packages (from matplotlib>=3.6.2->pdpbox) (3.0.9)\n",
      "Requirement already satisfied: python-dateutil>=2.7 in c:\\users\\dell\\anaconda3\\lib\\site-packages (from matplotlib>=3.6.2->pdpbox) (2.8.2)\n",
      "Requirement already satisfied: Jinja2>=2.10 in c:\\users\\dell\\anaconda3\\lib\\site-packages (from numpydoc>=1.4.0->pdpbox) (3.1.2)\n",
      "Requirement already satisfied: pytz>=2020.1 in c:\\users\\dell\\anaconda3\\lib\\site-packages (from pandas>=1.4.4->pdpbox) (2022.7)\n",
      "Requirement already satisfied: tenacity>=6.2.0 in c:\\users\\dell\\anaconda3\\lib\\site-packages (from plotly>=5.9.0->pdpbox) (8.2.2)\n",
      "Requirement already satisfied: bounded-pool-executor in c:\\users\\dell\\anaconda3\\lib\\site-packages (from pqdm>=0.2.0->pdpbox) (0.0.3)\n",
      "Requirement already satisfied: typing-extensions in c:\\users\\dell\\anaconda3\\lib\\site-packages (from pqdm>=0.2.0->pdpbox) (4.7.1)\n",
      "Requirement already satisfied: scipy>=1.5.0 in c:\\users\\dell\\anaconda3\\lib\\site-packages (from scikit-learn>=1.0.2->pdpbox) (1.10.1)\n",
      "Requirement already satisfied: threadpoolctl>=2.0.0 in c:\\users\\dell\\anaconda3\\lib\\site-packages (from scikit-learn>=1.0.2->pdpbox) (2.2.0)\n",
      "Requirement already satisfied: sphinxcontrib-applehelp in c:\\users\\dell\\anaconda3\\lib\\site-packages (from sphinx>=5.0.2->pdpbox) (1.0.2)\n",
      "Requirement already satisfied: sphinxcontrib-devhelp in c:\\users\\dell\\anaconda3\\lib\\site-packages (from sphinx>=5.0.2->pdpbox) (1.0.2)\n",
      "Requirement already satisfied: sphinxcontrib-jsmath in c:\\users\\dell\\anaconda3\\lib\\site-packages (from sphinx>=5.0.2->pdpbox) (1.0.1)\n",
      "Requirement already satisfied: sphinxcontrib-htmlhelp>=2.0.0 in c:\\users\\dell\\anaconda3\\lib\\site-packages (from sphinx>=5.0.2->pdpbox) (2.0.0)\n",
      "Requirement already satisfied: sphinxcontrib-serializinghtml>=1.1.5 in c:\\users\\dell\\anaconda3\\lib\\site-packages (from sphinx>=5.0.2->pdpbox) (1.1.5)\n",
      "Requirement already satisfied: sphinxcontrib-qthelp in c:\\users\\dell\\anaconda3\\lib\\site-packages (from sphinx>=5.0.2->pdpbox) (1.0.3)\n",
      "Requirement already satisfied: Pygments>=2.0 in c:\\users\\dell\\anaconda3\\lib\\site-packages (from sphinx>=5.0.2->pdpbox) (2.15.1)\n",
      "Requirement already satisfied: docutils<0.19,>=0.14 in c:\\users\\dell\\anaconda3\\lib\\site-packages (from sphinx>=5.0.2->pdpbox) (0.18.1)\n",
      "Requirement already satisfied: snowballstemmer>=1.1 in c:\\users\\dell\\anaconda3\\lib\\site-packages (from sphinx>=5.0.2->pdpbox) (2.2.0)\n",
      "Requirement already satisfied: babel>=1.3 in c:\\users\\dell\\anaconda3\\lib\\site-packages (from sphinx>=5.0.2->pdpbox) (2.11.0)\n",
      "Requirement already satisfied: alabaster<0.8,>=0.7 in c:\\users\\dell\\anaconda3\\lib\\site-packages (from sphinx>=5.0.2->pdpbox) (0.7.12)\n",
      "Requirement already satisfied: imagesize in c:\\users\\dell\\anaconda3\\lib\\site-packages (from sphinx>=5.0.2->pdpbox) (1.4.1)\n",
      "Requirement already satisfied: requests>=2.5.0 in c:\\users\\dell\\anaconda3\\lib\\site-packages (from sphinx>=5.0.2->pdpbox) (2.31.0)\n",
      "Requirement already satisfied: colorama>=0.3.5 in c:\\users\\dell\\anaconda3\\lib\\site-packages (from sphinx>=5.0.2->pdpbox) (0.4.6)\n",
      "Requirement already satisfied: sphinxcontrib-jquery<5,>=4 in c:\\users\\dell\\anaconda3\\lib\\site-packages (from sphinx-rtd-theme>=1.1.1->pdpbox) (4.1)\n",
      "Requirement already satisfied: iniconfig in c:\\users\\dell\\anaconda3\\lib\\site-packages (from pytest->pdpbox) (1.1.1)\n",
      "Requirement already satisfied: pluggy<2.0,>=0.12 in c:\\users\\dell\\anaconda3\\lib\\site-packages (from pytest->pdpbox) (1.0.0)\n",
      "Requirement already satisfied: MarkupSafe>=2.0 in c:\\users\\dell\\anaconda3\\lib\\site-packages (from Jinja2>=2.10->numpydoc>=1.4.0->pdpbox) (2.1.1)\n",
      "Requirement already satisfied: six>=1.5 in c:\\users\\dell\\anaconda3\\lib\\site-packages (from python-dateutil>=2.7->matplotlib>=3.6.2->pdpbox) (1.16.0)\n",
      "Requirement already satisfied: charset-normalizer<4,>=2 in c:\\users\\dell\\anaconda3\\lib\\site-packages (from requests>=2.5.0->sphinx>=5.0.2->pdpbox) (2.0.4)\n",
      "Requirement already satisfied: idna<4,>=2.5 in c:\\users\\dell\\anaconda3\\lib\\site-packages (from requests>=2.5.0->sphinx>=5.0.2->pdpbox) (3.4)\n",
      "Requirement already satisfied: urllib3<3,>=1.21.1 in c:\\users\\dell\\anaconda3\\lib\\site-packages (from requests>=2.5.0->sphinx>=5.0.2->pdpbox) (1.26.16)\n",
      "Requirement already satisfied: certifi>=2017.4.17 in c:\\users\\dell\\anaconda3\\lib\\site-packages (from requests>=2.5.0->sphinx>=5.0.2->pdpbox) (2023.7.22)\n"
     ]
    }
   ],
   "source": [
    "!pip install pdpbox"
   ]
  },
  {
   "cell_type": "code",
   "execution_count": 15,
   "id": "113a026f",
   "metadata": {},
   "outputs": [
    {
     "ename": "ImportError",
     "evalue": "cannot import name 'get_dataset' from 'pdpbox' (C:\\Users\\DELL\\anaconda3\\Lib\\site-packages\\pdpbox\\__init__.py)",
     "output_type": "error",
     "traceback": [
      "\u001b[1;31m---------------------------------------------------------------------------\u001b[0m",
      "\u001b[1;31mImportError\u001b[0m                               Traceback (most recent call last)",
      "Cell \u001b[1;32mIn[15], line 1\u001b[0m\n\u001b[1;32m----> 1\u001b[0m \u001b[38;5;28;01mfrom\u001b[39;00m \u001b[38;5;21;01mpdpbox\u001b[39;00m \u001b[38;5;28;01mimport\u001b[39;00m pdp, get_dataset\n\u001b[0;32m      3\u001b[0m \u001b[38;5;66;03m# Create transformers for PDP calculation\u001b[39;00m\n\u001b[0;32m      4\u001b[0m pdp_transformers \u001b[38;5;241m=\u001b[39m pdp\u001b[38;5;241m.\u001b[39mfrom_estimator(model, X_train)\n",
      "\u001b[1;31mImportError\u001b[0m: cannot import name 'get_dataset' from 'pdpbox' (C:\\Users\\DELL\\anaconda3\\Lib\\site-packages\\pdpbox\\__init__.py)"
     ]
    }
   ],
   "source": [
    "from pdpbox import pdp, get_dataset\n",
    "\n",
    "# Create transformers for PDP calculation\n",
    "pdp_transformers = pdp.from_estimator(model, X_train)\n",
    "\n",
    "# Choose a feature to visualize\n",
    "feature_to_plot = X.columns[1]  # Replace with the desired feature\n",
    "\n",
    "# Calculate partial dependence\n",
    "pdp_results = pdp.compute_partial_dependence(pdp_transformers, X_train, feature_to_plot, ice=True)\n",
    "\n",
    "# Plot the partial dependence\n",
    "pdp.plot_partial_dependence(pdp_results, feature_to_plot)\n"
   ]
  },
  {
   "cell_type": "code",
   "execution_count": 5,
   "id": "e346672e",
   "metadata": {},
   "outputs": [
    {
     "name": "stdout",
     "output_type": "stream",
     "text": [
      "Mean Squared Error: 662.4593756435577\n"
     ]
    }
   ],
   "source": [
    "import pandas as pd\n",
    "from sklearn.model_selection import train_test_split\n",
    "from sklearn.linear_model import LinearRegression\n",
    "\n",
    "# Load data\n",
    "data = pd.read_csv(\"C:/Users/DELL/GRAI.csv\")\n",
    "\n",
    "# Numerical columns to be used\n",
    "numerical_columns = [\"Timeline\", \"Registration\", \"Appeals_Redressed\", \"Corruption\", \"Average_Disposal_Time\", \"Pendency\", \"Appeal_filed\", \"Excellent_remarks\", \"Complaint_labelled\", \"Ratio_GROs\", \"Active_GROs\"]\n",
    "\n",
    "# Feature engineering (aggregation)\n",
    "# Calculate the mean of all numerical columns\n",
    "data[\"mean_features\"] = data[numerical_columns].mean(axis=1)\n",
    "\n",
    "# Alternatively, perform other aggregations or feature engineering here\n",
    "\n",
    "# Define target variable\n",
    "target_variable = \"Timeline\"\n",
    "\n",
    "# Separate features and target variable\n",
    "X = data[[\"mean_features\"]]  # Use only the aggregated feature\n",
    "y = data[target_variable]\n",
    "\n",
    "# Split data into training and testing sets\n",
    "X_train, X_test, y_train, y_test = train_test_split(X, y, test_size=0.2, random_state=42)\n",
    "\n",
    "# Train model (linear regression)\n",
    "model = LinearRegression()\n",
    "model.fit(X_train, y_train)\n",
    "\n",
    "# Make predictions on the testing set\n",
    "y_pred = model.predict(X_test)\n",
    "\n",
    "# Evaluate model performance (e.g., using mean squared error)\n",
    "from sklearn.metrics import mean_squared_error\n",
    "\n",
    "mse = mean_squared_error(y_test, y_pred)\n",
    "print(\"Mean Squared Error:\", mse)\n"
   ]
  },
  {
   "cell_type": "code",
   "execution_count": null,
   "id": "7c08764b",
   "metadata": {},
   "outputs": [],
   "source": []
  }
 ],
 "metadata": {
  "kernelspec": {
   "display_name": "Python 3 (ipykernel)",
   "language": "python",
   "name": "python3"
  },
  "language_info": {
   "codemirror_mode": {
    "name": "ipython",
    "version": 3
   },
   "file_extension": ".py",
   "mimetype": "text/x-python",
   "name": "python",
   "nbconvert_exporter": "python",
   "pygments_lexer": "ipython3",
   "version": "3.11.4"
  }
 },
 "nbformat": 4,
 "nbformat_minor": 5
}
